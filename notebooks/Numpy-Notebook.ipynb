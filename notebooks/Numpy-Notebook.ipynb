{
 "cells": [
  {
   "cell_type": "markdown",
   "metadata": {},
   "source": [
    "# Getting started"
   ]
  },
  {
   "cell_type": "markdown",
   "metadata": {},
   "source": [
    "#### 1. Almost all data* can be represented as a array of numbers\n",
    "For example :\n",
    "       -  An image can be represented with a 3dimensional array (RGB) representing the intensities.\n",
    "       -  An mp3 can be represented as an array of intensities wrt time\n",
    "       -  An text document can be represented as binary data\n",
    "    Basically all data can be represented as an array of numbers.\n",
    "\n",
    "Okay, so we have a large array of numbers, now while working with this large array of numbers, how to efficiently store and use them.\n",
    "           "
   ]
  },
  {
   "cell_type": "markdown",
   "metadata": {},
   "source": [
    "#### 2. Existing solutions \n",
    "In order to work with a large array of numbers, in python we already have the <code>list</code> right."
   ]
  },
  {
   "cell_type": "code",
   "execution_count": 159,
   "metadata": {},
   "outputs": [
    {
     "name": "stdout",
     "output_type": "stream",
     "text": [
      "999999\n"
     ]
    }
   ],
   "source": [
    "million = list(range(0,10**6))\n",
    "print(million[-1]) "
   ]
  },
  {
   "cell_type": "markdown",
   "metadata": {},
   "source": [
    "So the list is a quite easy and fairly simple data strucutre to use. So thats all we need for working with a image or text or audio data right ...? waitup!"
   ]
  },
  {
   "cell_type": "code",
   "execution_count": 160,
   "metadata": {},
   "outputs": [
    {
     "name": "stdout",
     "output_type": "stream",
     "text": [
      "Item Count - 1000000 \n",
      " Ocuupied Size -  9000112  bytes\n"
     ]
    }
   ],
   "source": [
    "import sys\n",
    "print(\"Item Count -\", len(million),\"\\n\",\"Ocuupied Size - \",sys.getsizeof(million),\" bytes\")# thats almost 9 times the size of the data in millionare"
   ]
  },
  {
   "cell_type": "markdown",
   "metadata": {},
   "source": [
    "Notice that the  soze of holding a basic array of million integers is 9million\n",
    "\n",
    "Type |  Storage size |  Value range \n",
    "------|--------|-------:\n",
    " signed char   |  1 byte       |  -128 to 127 \n",
    "  int          |   2 or 4 bytes|-32,768 to 32,767 or -2,147,483,648 to 2,147,483,647   \n",
    "  unsigned int | 2 or 4 bytes  | 0 to 65,535 or 0 to 4,294,967,295  \n",
    "\n",
    "From above table we can see that roughly by storing unsinged int (4bytes) we should be having a maximum of 4*1million bytes of storage used. but this is holding way more than that."
   ]
  },
  {
   "cell_type": "markdown",
   "metadata": {},
   "source": [
    "#### 3. Lets look at whats happening here\n",
    "Since python is dynamically typed, that means that a varible can hold any type of data thoughout its lifetime in a program. unlike statically type data where if a variable is initialized as a int, it should be a int throughout its lifetime.\n",
    "<code>\n",
    "    python -- x = 10; x = {};\n",
    "    c++   --- int a = 10; a =/= {};</code>\n",
    "    \n",
    "Lets  look at a python variable and its structure for understanding more about how python does this dynamic typing\n",
    "https://github.com/certik/python-2.7/blob/c360290c3c9e55fbd79d6ceacdfc7cd4f393c1eb/Doc/c-api/structures.rst\n",
    "\n",
    "\n",
    "\n",
    "Hence million[0] - 0, is more than just 0 that is stored in memory.\n",
    "We need a more efficient mechanisim for the storing of this data with the easy of use of lists."
   ]
  },
  {
   "cell_type": "code",
   "execution_count": 161,
   "metadata": {},
   "outputs": [
    {
     "name": "stdout",
     "output_type": "stream",
     "text": [
      "Item Count - 1000000 \n",
      " Ocuupied Size -  4000064  bytes\n"
     ]
    }
   ],
   "source": [
    "import array\n",
    "million_array = array.array('i', million)\n",
    "print(\"Item Count -\", len(million_array),\"\\n\",\"Ocuupied Size - \",sys.getsizeof(million_array),\" bytes\")# thats almost 9 times the size of the data in millionare"
   ]
  },
  {
   "cell_type": "markdown",
   "metadata": {},
   "source": [
    "This is way better than storing it as a list, This is a good solution, but making multidimensional arrays and slicing and dicing would be hard. Theres an alternative, well proven solution <code> numpy </code> "
   ]
  },
  {
   "cell_type": "code",
   "execution_count": 162,
   "metadata": {},
   "outputs": [
    {
     "name": "stdout",
     "output_type": "stream",
     "text": [
      "Item Count - 1000000 \n",
      " Ocuupied Size -  4000096  bytes\n"
     ]
    }
   ],
   "source": [
    "import numpy as np\n",
    "\n",
    "million_np_array = np.array(million, dtype=\"int32\")\n",
    "print(\"Item Count -\", len(million_np_array),\"\\n\",\"Ocuupied Size - \",sys.getsizeof(million_np_array),\" bytes\")# thats almost 9 times the size of the data in millionare"
   ]
  },
  {
   "cell_type": "markdown",
   "metadata": {},
   "source": [
    "#### 4. Introduction to numpy and its modules"
   ]
  },
  {
   "cell_type": "code",
   "execution_count": 2,
   "metadata": {},
   "outputs": [
    {
     "data": {
      "text/plain": [
       "array([0, 1, 2, 3, 4, 5, 6, 7, 8, 9])"
      ]
     },
     "execution_count": 2,
     "metadata": {},
     "output_type": "execute_result"
    }
   ],
   "source": [
    "import numpy as np\n",
    "\n",
    "# Creating arrays from existing lists.\n",
    "items = list(range(10))\n",
    "np.array(items)"
   ]
  },
  {
   "cell_type": "code",
   "execution_count": 50,
   "metadata": {},
   "outputs": [
    {
     "name": "stdout",
     "output_type": "stream",
     "text": [
      "Just declaring the array.         --> [ 1.    2.    3.    2.7  69.98]\n",
      "Declaring the array with int type --> [ 1  2  3  2 69]\n",
      "Declaring the array with float type --> [ 1.    2.    3.    2.7  69.98]\n"
     ]
    }
   ],
   "source": [
    "# Unlike the python lists, the numpy array contains elements of the same type.\n",
    "# If types do not match, numpy will try to upcast. like from int to float or so.\n",
    "print(\"Just declaring the array.         -->\", np.array([1, 2, 3, 2.7, 69.98]))\n",
    "print(\"Declaring the array with int type -->\", np.array([1, 2, 3, 2.7, 69.98], dtype='int'))\n",
    "print(\"Declaring the array with float type -->\", np.array([1, 2, 3, 2.7, 69.98], dtype='float32'))"
   ]
  },
  {
   "cell_type": "markdown",
   "metadata": {},
   "source": [
    "# The common data types for numpy arrays\n",
    "Data type  | Description\n",
    "-----------|--------:\n",
    "bool_      | Boolean (True or False) stored as a byte\n",
    "int_       | Default integer type (same as C long ; normally either int64 or int32 )\n",
    "int8       | Byte (–128 to 127)\n",
    "int16      | Integer (–32768 to 32767)\n",
    "int32      | Integer (–2147483648 to 2147483647)\n",
    "int64      | Integer (–9223372036854775808 to 9223372036854775807) \n",
    "float_     | Shorthand for float64\n",
    "float16    | Half-precision float: sign bit, 5 bits exponent, 10 bits mantissa\n",
    "float32    | Single-precision float: sign bit, 8 bits exponent, 23 bits mantissa\n",
    "float64    | Double-precision float: sign bit, 11 bits exponent, 52 bits mantissa\n",
    "complex_   | Shorthand for complex128\n",
    "complex64  | Complex number, represented by two 32-bit floats\n",
    "complex128 | Complex number, represented by two 64-bit floats\n"
   ]
  },
  {
   "cell_type": "code",
   "execution_count": 70,
   "metadata": {},
   "outputs": [
    {
     "name": "stdout",
     "output_type": "stream",
     "text": [
      "[ 2  4  6  8 10 12]\n",
      "The datatype of the array             -->  int64\n",
      "The number of dimensions of the array --> 1\n",
      "The shape of each of  the dimensions of the array --> (6,)\n",
      "The total size of the array.(total number of elements)-->   6\n",
      "The size of each element in the array (in bytes )--->  8 bytes\n",
      "The total size of array.(space occupied) (in bytes )--->  48 bytes\n",
      "\n",
      "\n",
      "For multi dimensional arrays\n",
      "[[ 2  4  6]\n",
      " [ 8 10 12]]\n",
      "The datatype of the array             -->  int64\n",
      "The number of dimensions of the array --> 2\n",
      "The shape of each of  the dimensions of the array --> (2, 3)\n",
      "The total size of the array.(total number of elements)-->   6\n",
      "The size of each element in the array (in bytes )--->  8 bytes\n",
      "The total size of array.(space occupied) (in bytes )--->  48 bytes\n"
     ]
    }
   ],
   "source": [
    "# More on the numpy array nad its attributes\n",
    "items = np.array([2,4,6,8,10,12])\n",
    "print(items)\n",
    "print(\"The datatype of the array             --> \", items.dtype)\n",
    "print(\"The number of dimensions of the array -->\", items.ndim)\n",
    "print(\"The shape of each of  the dimensions of the array -->\", items.shape)\n",
    "print(\"The total size of the array.(total number of elements)-->  \", items.size)\n",
    "print(\"The size of each element in the array (in bytes )---> \", items.itemsize, 'bytes')\n",
    "print(\"The total size of array.(space occupied) (in bytes )---> \", items.nbytes, 'bytes')\n",
    "\n",
    "print(\"\\n\\nFor multi dimensional arrays\")\n",
    "md_items = np.array([[2,4,6], [8, 10, 12]])\n",
    "print(md_items)\n",
    "print(\"The datatype of the array             --> \", md_items.dtype)\n",
    "print(\"The number of dimensions of the array -->\", md_items.ndim)\n",
    "print(\"The shape of each of  the dimensions of the array -->\", md_items.shape)\n",
    "print(\"The total size of the array.(total number of elements)-->  \", md_items.size)\n",
    "print(\"The size of each element in the array (in bytes )---> \", md_items.itemsize, 'bytes')\n",
    "print(\"The total size of array.(space occupied) (in bytes )---> \", md_items.nbytes, 'bytes')"
   ]
  },
  {
   "cell_type": "code",
   "execution_count": 4,
   "metadata": {},
   "outputs": [
    {
     "name": "stdout",
     "output_type": "stream",
     "text": [
      "Zero array :  [0. 0. 0. 0. 0.]\n",
      "Data type by default :  float64\n"
     ]
    }
   ],
   "source": [
    "# Functions to help get started with numpy\n",
    "\n",
    "# To Create a array of 0's or 1's \n",
    "zero_array = np.zeros(5)\n",
    "print(\"Zero array : \",zero_array ) \n",
    "print(\"Data type by default : \", zero_array.dtype)\n",
    "# by default data type is set to float64 for a 64 bit machine and 32 for a 32bitmachine"
   ]
  },
  {
   "cell_type": "code",
   "execution_count": 6,
   "metadata": {},
   "outputs": [
    {
     "name": "stdout",
     "output_type": "stream",
     "text": [
      "Ones Array : [1. 1. 1. 1. 1.]\n"
     ]
    }
   ],
   "source": [
    "ones_array = np.ones(5)\n",
    "print(\"Ones Array :\", ones_array)"
   ]
  },
  {
   "cell_type": "code",
   "execution_count": 8,
   "metadata": {},
   "outputs": [
    {
     "name": "stdout",
     "output_type": "stream",
     "text": [
      "Filled array :  [3.141 3.141 3.141 3.141 3.141 3.141 3.141 3.141 3.141 3.141]\n"
     ]
    }
   ],
   "source": [
    "filled_array = np.full(10, 3.141)\n",
    "print(\"Filled array : \", filled_array)"
   ]
  },
  {
   "cell_type": "code",
   "execution_count": 15,
   "metadata": {},
   "outputs": [
    {
     "name": "stdout",
     "output_type": "stream",
     "text": [
      "2 dimensional array.\n",
      "[[1 1]\n",
      " [1 1]]\n"
     ]
    }
   ],
   "source": [
    "# Working with multi dimensonal arraays & dtype\n",
    "ones_mdarray = np.ones((2,2), dtype='int')\n",
    "print(\"2 dimensional array.\")\n",
    "print(ones_mdarray)"
   ]
  },
  {
   "cell_type": "code",
   "execution_count": 71,
   "metadata": {},
   "outputs": [
    {
     "data": {
      "text/plain": [
       "array([[1, 1, 1, 1, 1, 1, 1, 1, 1],\n",
       "       [1, 1, 1, 1, 1, 1, 1, 1, 1],\n",
       "       [1, 1, 1, 1, 1, 1, 1, 1, 1],\n",
       "       [1, 1, 1, 1, 1, 1, 1, 1, 1],\n",
       "       [1, 1, 1, 1, 1, 1, 1, 1, 1],\n",
       "       [1, 1, 1, 1, 1, 1, 1, 1, 1],\n",
       "       [1, 1, 1, 1, 1, 1, 1, 1, 1],\n",
       "       [1, 1, 1, 1, 1, 1, 1, 1, 1],\n",
       "       [1, 1, 1, 1, 1, 1, 1, 1, 1]])"
      ]
     },
     "execution_count": 71,
     "metadata": {},
     "output_type": "execute_result"
    }
   ],
   "source": [
    "md_array = np.ones((9,9), dtype='int')\n",
    "md_array"
   ]
  },
  {
   "cell_type": "code",
   "execution_count": 170,
   "metadata": {
    "scrolled": true
   },
   "outputs": [
    {
     "name": "stdout",
     "output_type": "stream",
     "text": [
      "a range of numbers --> [ 1  4  7 10 13 16 19 22 25 28]\n",
      "Evenly spaced numbers --> [0.   0.25 0.5  0.75 1.  ]\n",
      "Random numbers --> [0.36781137 0.75490428 0.04471352]\n",
      "Multi diemnsional arrays ---> \n",
      " [[0.03131563 0.73355548 0.46584051 0.50614986]\n",
      " [0.07219346 0.03409079 0.85217702 0.29573226]\n",
      " [0.08338178 0.4602885  0.14168123 0.2423512 ]\n",
      " [0.93038855 0.96194668 0.01472797 0.03726709]]\n",
      "Random numbers with fixed mean(0) and std(1) ---> \n",
      " [[ 1.61816404 -1.94163407]\n",
      " [ 0.78011427 -0.29359994]]\n",
      "Numbers in a defined interval :--> \n",
      " [[ 7 15]\n",
      " [14  7]]\n",
      "Create an identity matrix --> \n",
      " [[1. 0. 0. 0. 0. 0. 0.]\n",
      " [0. 1. 0. 0. 0. 0. 0.]\n",
      " [0. 0. 1. 0. 0. 0. 0.]\n",
      " [0. 0. 0. 1. 0. 0. 0.]\n",
      " [0. 0. 0. 0. 1. 0. 0.]\n",
      " [0. 0. 0. 0. 0. 1. 0.]\n",
      " [0. 0. 0. 0. 0. 0. 1.]]\n",
      "To create a empty matrix --> \n",
      " [0.   0.25 0.5  0.75 1.  ]\n"
     ]
    }
   ],
   "source": [
    "# Similar to the range of python, we have np.arange\n",
    "print(\"a range of numbers -->\",np.arange(1,30,3)) #from, to , step size\n",
    "print(\"Evenly spaced numbers -->\", np.linspace(0,1,5)) #(from, to, number of steps), includes begining and ending numbers\n",
    "# Random Numbers \n",
    "# random numbers that are uniformly distributed and bewtween 0 and 1\n",
    "print(\"Random numbers -->\", np.random.random(3))\n",
    "print(\"Multi diemnsional arrays ---> \\n\", np.random.random((4,4)))\n",
    "# for numbers that are normally distributed aand with mean 0 and standard deviation 1\n",
    "print(\"Random numbers with fixed mean(0) and std(1) ---> \\n\",\n",
    "      np.random.normal(0, 1, (2,2)))\n",
    "# numbers within a range\n",
    "print(\"Numbers in a defined interval :--> \\n\",np.random.randint(0, 20, (2,2)))\n",
    "# Identity matrix\n",
    "print(\"Create an identity matrix --> \\n\",np.eye(7)) # create an identity matrix\n",
    "# an empty matrix , the elements are what is already in that memory location\n",
    "print(\"To create a empty matrix --> \\n\", np.empty(5))"
   ]
  },
  {
   "cell_type": "code",
   "execution_count": null,
   "metadata": {},
   "outputs": [],
   "source": []
  },
  {
   "attachments": {
    "image.png": {
     "image/png": "[encoded data removed]"
    }
   },
   "cell_type": "markdown",
   "metadata": {},
   "source": [
    "![image.png](attachment:image.png)"
   ]
  },
  {
   "cell_type": "code",
   "execution_count": 84,
   "metadata": {},
   "outputs": [
    {
     "data": {
      "text/plain": [
       "array([[3, 0, 0, 8, 0, 1, 0, 0, 2],\n",
       "       [2, 0, 1, 0, 3, 0, 6, 0, 4],\n",
       "       [0, 0, 0, 2, 0, 4, 0, 0, 0],\n",
       "       [8, 0, 9, 0, 0, 0, 1, 0, 6],\n",
       "       [0, 6, 0, 0, 0, 0, 0, 5, 0],\n",
       "       [7, 0, 2, 0, 0, 0, 4, 0, 9],\n",
       "       [0, 0, 0, 5, 0, 9, 0, 0, 0],\n",
       "       [9, 0, 4, 0, 8, 0, 7, 0, 5],\n",
       "       [6, 0, 0, 1, 0, 7, 0, 0, 3]])"
      ]
     },
     "execution_count": 84,
     "metadata": {},
     "output_type": "execute_result"
    }
   ],
   "source": [
    "sudoku_matrix = np.array([[3,0,0,8,0,1,0,0,2], [2,0,1,0,3,0,6,0,4], [0,0,0,2,0,4,0,0,0],\n",
    "                          [8,0,9,0,0,0,1,0,6], [0,6,0,0,0,0,0,5,0], [7,0,2,0,0,0,4,0,9],\n",
    "                          [0,0,0,5,0,9,0,0,0], [9,0,4,0,8,0,7,0,5], [6,0,0,1,0,7,0,0,3]])\n",
    "sudoku_matrix"
   ]
  },
  {
   "cell_type": "code",
   "execution_count": 171,
   "metadata": {},
   "outputs": [
    {
     "name": "stdout",
     "output_type": "stream",
     "text": [
      "dimensions   2\n",
      "shape   (9, 9)\n",
      "size   81\n"
     ]
    }
   ],
   "source": [
    "# details of the sudoku matrix\n",
    "print(\"dimensions  \", sudoku_matrix.ndim)  # rows and columns \n",
    "print(\"shape  \", sudoku_matrix.shape)\n",
    "print(\"size  \", sudoku_matrix.size)"
   ]
  },
  {
   "attachments": {
    "sudoku_row.png": {
     "image/png": "[encoded data removed]"
    }
   },
   "cell_type": "markdown",
   "metadata": {},
   "source": [
    "![sudoku_row.png](attachment:sudoku_row.png)"
   ]
  },
  {
   "cell_type": "code",
   "execution_count": 92,
   "metadata": {},
   "outputs": [
    {
     "data": {
      "text/plain": [
       "array([3, 0, 0, 8, 0, 1, 0, 0, 2])"
      ]
     },
     "execution_count": 92,
     "metadata": {},
     "output_type": "execute_result"
    }
   ],
   "source": [
    "sudoku_matrix[0, : ] # 0th row & all columns"
   ]
  },
  {
   "attachments": {
    "sudoku_col.png": {
     "image/png": "[encoded data removed]"
    }
   },
   "cell_type": "markdown",
   "metadata": {},
   "source": [
    "![sudoku_col.png](attachment:sudoku_col.png)"
   ]
  },
  {
   "cell_type": "code",
   "execution_count": 93,
   "metadata": {},
   "outputs": [
    {
     "data": {
      "text/plain": [
       "array([3, 2, 0, 8, 0, 7, 0, 9, 6])"
      ]
     },
     "execution_count": 93,
     "metadata": {},
     "output_type": "execute_result"
    }
   ],
   "source": [
    "sudoku_matrix[ :, 0] # all rows and 0th column only"
   ]
  },
  {
   "attachments": {
    "sudoku_mid_matrix.png": {
     "image/png": "[encoded data removed]"
    }
   },
   "cell_type": "markdown",
   "metadata": {},
   "source": [
    "![sudoku_mid_matrix.png](attachment:sudoku_mid_matrix.png)"
   ]
  },
  {
   "cell_type": "code",
   "execution_count": 103,
   "metadata": {},
   "outputs": [
    {
     "data": {
      "text/plain": [
       "array([[0, 0, 0],\n",
       "       [0, 0, 0],\n",
       "       [0, 0, 0]])"
      ]
     },
     "execution_count": 103,
     "metadata": {},
     "output_type": "execute_result"
    }
   ],
   "source": [
    "mid_matrix = sudoku_matrix[3:6, 3:6]\n",
    "mid_matrix"
   ]
  },
  {
   "cell_type": "code",
   "execution_count": 105,
   "metadata": {},
   "outputs": [
    {
     "data": {
      "text/plain": [
       "0"
      ]
     },
     "execution_count": 105,
     "metadata": {},
     "output_type": "execute_result"
    }
   ],
   "source": [
    "# array slices are the views rather than the copies of the data in the matrix\n",
    "mid_matrix[0,0]"
   ]
  },
  {
   "cell_type": "code",
   "execution_count": 106,
   "metadata": {},
   "outputs": [],
   "source": [
    "mid_matrix[0, 0] = 20"
   ]
  },
  {
   "cell_type": "code",
   "execution_count": 107,
   "metadata": {},
   "outputs": [
    {
     "data": {
      "text/plain": [
       "array([[20,  0,  0],\n",
       "       [ 0,  0,  0],\n",
       "       [ 0,  0,  0]])"
      ]
     },
     "execution_count": 107,
     "metadata": {},
     "output_type": "execute_result"
    }
   ],
   "source": [
    "mid_matrix"
   ]
  },
  {
   "cell_type": "code",
   "execution_count": 108,
   "metadata": {},
   "outputs": [
    {
     "data": {
      "text/plain": [
       "array([[ 3,  0,  0,  8,  0,  1,  0,  0,  2],\n",
       "       [ 2,  0,  1,  0,  3,  0,  6,  0,  4],\n",
       "       [ 0,  0,  0,  2,  0,  4,  0,  0,  0],\n",
       "       [ 8,  0,  9, 20,  0,  0,  1,  0,  6],\n",
       "       [ 0,  6,  0,  0,  0,  0,  0,  5,  0],\n",
       "       [ 7,  0,  2,  0,  0,  0,  4,  0,  9],\n",
       "       [ 0,  0,  0,  5,  0,  9,  0,  0,  0],\n",
       "       [ 9,  0,  4,  0,  8,  0,  7,  0,  5],\n",
       "       [ 6,  0,  0,  1,  0,  7,  0,  0,  3]])"
      ]
     },
     "execution_count": 108,
     "metadata": {},
     "output_type": "execute_result"
    }
   ],
   "source": [
    "sudoku_matrix"
   ]
  },
  {
   "cell_type": "code",
   "execution_count": 112,
   "metadata": {},
   "outputs": [
    {
     "data": {
      "text/plain": [
       "array([[3, 0, 0, 8, 0, 1, 0, 0, 2],\n",
       "       [2, 0, 1, 0, 3, 0, 6, 0, 4],\n",
       "       [0, 0, 0, 2, 0, 4, 0, 0, 0],\n",
       "       [8, 0, 9, 0, 0, 0, 1, 0, 6],\n",
       "       [0, 6, 0, 0, 0, 0, 0, 5, 0],\n",
       "       [7, 0, 2, 0, 0, 0, 4, 0, 9],\n",
       "       [0, 0, 0, 5, 0, 9, 0, 0, 0],\n",
       "       [9, 0, 4, 0, 8, 0, 7, 0, 5],\n",
       "       [6, 0, 0, 1, 0, 7, 0, 0, 3]])"
      ]
     },
     "execution_count": 112,
     "metadata": {},
     "output_type": "execute_result"
    }
   ],
   "source": [
    "sudoku_matrix[3,3] = 0\n",
    "sudoku_matrix"
   ]
  },
  {
   "cell_type": "code",
   "execution_count": 113,
   "metadata": {},
   "outputs": [],
   "source": [
    "mid_matrix_copy = sudoku_matrix[3:6, 3:6].copy()"
   ]
  },
  {
   "cell_type": "code",
   "execution_count": 114,
   "metadata": {},
   "outputs": [
    {
     "data": {
      "text/plain": [
       "array([[20,  0,  0],\n",
       "       [ 0,  0,  0],\n",
       "       [ 0,  0,  0]])"
      ]
     },
     "execution_count": 114,
     "metadata": {},
     "output_type": "execute_result"
    }
   ],
   "source": [
    "mid_matrix_copy[0,0] = 20\n",
    "mid_matrix_copy"
   ]
  },
  {
   "cell_type": "code",
   "execution_count": 115,
   "metadata": {},
   "outputs": [
    {
     "data": {
      "text/plain": [
       "array([[3, 0, 0, 8, 0, 1, 0, 0, 2],\n",
       "       [2, 0, 1, 0, 3, 0, 6, 0, 4],\n",
       "       [0, 0, 0, 2, 0, 4, 0, 0, 0],\n",
       "       [8, 0, 9, 0, 0, 0, 1, 0, 6],\n",
       "       [0, 6, 0, 0, 0, 0, 0, 5, 0],\n",
       "       [7, 0, 2, 0, 0, 0, 4, 0, 9],\n",
       "       [0, 0, 0, 5, 0, 9, 0, 0, 0],\n",
       "       [9, 0, 4, 0, 8, 0, 7, 0, 5],\n",
       "       [6, 0, 0, 1, 0, 7, 0, 0, 3]])"
      ]
     },
     "execution_count": 115,
     "metadata": {},
     "output_type": "execute_result"
    }
   ],
   "source": [
    "sudoku_matrix"
   ]
  },
  {
   "cell_type": "code",
   "execution_count": 118,
   "metadata": {},
   "outputs": [
    {
     "data": {
      "text/plain": [
       "(1, (81,))"
      ]
     },
     "execution_count": 118,
     "metadata": {},
     "output_type": "execute_result"
    }
   ],
   "source": [
    "# we can reshape easily using the reshape functionality\n",
    "elements = np.array([3,0,0,8,0,1,0,0,2,2,0,1,0,3,0,6,0,4, 0,0,0,2,0,4,0,0,0,8,0,9,0,0,0,1,0,6, 0,6,0,0,0,0,0,5,0, 7,0,2,0,0,0,4,0,9,0,0,0,5,0,9,0,0,0, 9,0,4,0,8,0,7,0,5, 6,0,0,1,0,7,0,0,3])\n",
    "elements.ndim, elements.shape"
   ]
  },
  {
   "cell_type": "code",
   "execution_count": 119,
   "metadata": {},
   "outputs": [
    {
     "data": {
      "text/plain": [
       "array([[3, 0, 0, 8, 0, 1, 0, 0, 2],\n",
       "       [2, 0, 1, 0, 3, 0, 6, 0, 4],\n",
       "       [0, 0, 0, 2, 0, 4, 0, 0, 0],\n",
       "       [8, 0, 9, 0, 0, 0, 1, 0, 6],\n",
       "       [0, 6, 0, 0, 0, 0, 0, 5, 0],\n",
       "       [7, 0, 2, 0, 0, 0, 4, 0, 9],\n",
       "       [0, 0, 0, 5, 0, 9, 0, 0, 0],\n",
       "       [9, 0, 4, 0, 8, 0, 7, 0, 5],\n",
       "       [6, 0, 0, 1, 0, 7, 0, 0, 3]])"
      ]
     },
     "execution_count": 119,
     "metadata": {},
     "output_type": "execute_result"
    }
   ],
   "source": [
    "elements.reshape((9,9)) # returns  a view"
   ]
  },
  {
   "cell_type": "code",
   "execution_count": 121,
   "metadata": {},
   "outputs": [
    {
     "data": {
      "text/plain": [
       "array([200,   0,   0,   8,   0,   1,   0,   0,   2,   2,   0,   1,   0,\n",
       "         3,   0,   6,   0,   4,   0,   0,   0,   2,   0,   4,   0,   0,\n",
       "         0,   8,   0,   9,   0,   0,   0,   1,   0,   6,   0,   6,   0,\n",
       "         0,   0,   0,   0,   5,   0,   7,   0,   2,   0,   0,   0,   4,\n",
       "         0,   9,   0,   0,   0,   5,   0,   9,   0,   0,   0,   9,   0,\n",
       "         4,   0,   8,   0,   7,   0,   5,   6,   0,   0,   1,   0,   7,\n",
       "         0,   0,   3])"
      ]
     },
     "execution_count": 121,
     "metadata": {},
     "output_type": "execute_result"
    }
   ],
   "source": [
    "elem_view =  elements.reshape((9,9))\n",
    "elem_view[0,0] = 200\n",
    "elements"
   ]
  },
  {
   "cell_type": "code",
   "execution_count": 122,
   "metadata": {},
   "outputs": [
    {
     "data": {
      "text/plain": [
       "array([ 1,  2,  3,  4,  5,  6,  7,  8,  9, 10, 11, 12])"
      ]
     },
     "execution_count": 122,
     "metadata": {},
     "output_type": "execute_result"
    }
   ],
   "source": [
    "# concatination\n",
    "a = np.array([1,2,3,4,5,6])\n",
    "b = np.array([7,8,9,10,11,12])\n",
    "np.concatenate([a,b])"
   ]
  },
  {
   "cell_type": "code",
   "execution_count": 125,
   "metadata": {},
   "outputs": [
    {
     "data": {
      "text/plain": [
       "array([[0., 0., 0., 0.],\n",
       "       [0., 0., 0., 0.],\n",
       "       [0., 0., 0., 0.],\n",
       "       [0., 0., 0., 0.]])"
      ]
     },
     "execution_count": 125,
     "metadata": {},
     "output_type": "execute_result"
    }
   ],
   "source": [
    "square = np.zeros((4,4))\n",
    "square"
   ]
  },
  {
   "cell_type": "code",
   "execution_count": 137,
   "metadata": {},
   "outputs": [],
   "source": [
    "row = np.array([1,2,3,4])"
   ]
  },
  {
   "cell_type": "code",
   "execution_count": 138,
   "metadata": {},
   "outputs": [
    {
     "data": {
      "text/plain": [
       "array([[0., 0., 0., 0.],\n",
       "       [0., 0., 0., 0.],\n",
       "       [0., 0., 0., 0.],\n",
       "       [0., 0., 0., 0.],\n",
       "       [1., 2., 3., 4.]])"
      ]
     },
     "execution_count": 138,
     "metadata": {},
     "output_type": "execute_result"
    }
   ],
   "source": [
    "np.concatenate([square, [row]])"
   ]
  },
  {
   "cell_type": "code",
   "execution_count": 144,
   "metadata": {},
   "outputs": [
    {
     "data": {
      "text/plain": [
       "array([[1],\n",
       "       [2],\n",
       "       [3],\n",
       "       [4]])"
      ]
     },
     "execution_count": 144,
     "metadata": {},
     "output_type": "execute_result"
    }
   ],
   "source": [
    "col = row.reshape((4,1))\n",
    "col"
   ]
  },
  {
   "cell_type": "code",
   "execution_count": 145,
   "metadata": {},
   "outputs": [
    {
     "data": {
      "text/plain": [
       "array([[0., 0., 0., 0., 1.],\n",
       "       [0., 0., 0., 0., 2.],\n",
       "       [0., 0., 0., 0., 3.],\n",
       "       [0., 0., 0., 0., 4.]])"
      ]
     },
     "execution_count": 145,
     "metadata": {},
     "output_type": "execute_result"
    }
   ],
   "source": [
    "np.concatenate([square, col], axis=1)"
   ]
  },
  {
   "cell_type": "code",
   "execution_count": 147,
   "metadata": {},
   "outputs": [
    {
     "data": {
      "text/plain": [
       "array([[0., 0., 0., 0.],\n",
       "       [0., 0., 0., 0.],\n",
       "       [0., 0., 0., 0.],\n",
       "       [0., 0., 0., 0.],\n",
       "       [1., 2., 3., 4.]])"
      ]
     },
     "execution_count": 147,
     "metadata": {},
     "output_type": "execute_result"
    }
   ],
   "source": [
    "np.vstack([square, row])"
   ]
  },
  {
   "cell_type": "code",
   "execution_count": 149,
   "metadata": {},
   "outputs": [
    {
     "data": {
      "text/plain": [
       "array([[0., 0., 0., 0., 1.],\n",
       "       [0., 0., 0., 0., 2.],\n",
       "       [0., 0., 0., 0., 3.],\n",
       "       [0., 0., 0., 0., 4.]])"
      ]
     },
     "execution_count": 149,
     "metadata": {},
     "output_type": "execute_result"
    }
   ],
   "source": [
    "np.hstack([square, col])"
   ]
  },
  {
   "cell_type": "code",
   "execution_count": 173,
   "metadata": {},
   "outputs": [
    {
     "data": {
      "text/plain": [
       "array([[3, 0, 0, 8, 0, 1, 0, 0, 2],\n",
       "       [2, 0, 1, 0, 3, 0, 6, 0, 4],\n",
       "       [0, 0, 0, 2, 0, 4, 0, 0, 0],\n",
       "       [8, 0, 9, 0, 0, 0, 1, 0, 6],\n",
       "       [0, 6, 0, 0, 0, 0, 0, 5, 0],\n",
       "       [7, 0, 2, 0, 0, 0, 4, 0, 9],\n",
       "       [0, 0, 0, 5, 0, 9, 0, 0, 0],\n",
       "       [9, 0, 4, 0, 8, 0, 7, 0, 5],\n",
       "       [6, 0, 0, 1, 0, 7, 0, 0, 3]])"
      ]
     },
     "execution_count": 173,
     "metadata": {},
     "output_type": "execute_result"
    }
   ],
   "source": [
    "#np.dstack for the third axis\n",
    "sudoku_matrix"
   ]
  },
  {
   "cell_type": "code",
   "execution_count": 153,
   "metadata": {},
   "outputs": [
    {
     "data": {
      "text/plain": [
       "[array([[3, 0, 0, 8],\n",
       "        [2, 0, 1, 0],\n",
       "        [0, 0, 0, 2],\n",
       "        [8, 0, 9, 0],\n",
       "        [0, 6, 0, 0],\n",
       "        [7, 0, 2, 0],\n",
       "        [0, 0, 0, 5],\n",
       "        [9, 0, 4, 0],\n",
       "        [6, 0, 0, 1]]),\n",
       " array([[0, 1, 0, 0, 2],\n",
       "        [3, 0, 6, 0, 4],\n",
       "        [0, 4, 0, 0, 0],\n",
       "        [0, 0, 1, 0, 6],\n",
       "        [0, 0, 0, 5, 0],\n",
       "        [0, 0, 4, 0, 9],\n",
       "        [0, 9, 0, 0, 0],\n",
       "        [8, 0, 7, 0, 5],\n",
       "        [0, 7, 0, 0, 3]])]"
      ]
     },
     "execution_count": 153,
     "metadata": {},
     "output_type": "execute_result"
    }
   ],
   "source": [
    "np.hsplit(sudoku_matrix, [4])"
   ]
  },
  {
   "cell_type": "code",
   "execution_count": 157,
   "metadata": {
    "scrolled": true
   },
   "outputs": [
    {
     "data": {
      "text/plain": [
       "[array([[3, 0, 0, 8, 0, 1, 0, 0, 2],\n",
       "        [2, 0, 1, 0, 3, 0, 6, 0, 4],\n",
       "        [0, 0, 0, 2, 0, 4, 0, 0, 0],\n",
       "        [8, 0, 9, 0, 0, 0, 1, 0, 6]]),\n",
       " array([[0, 6, 0, 0, 0, 0, 0, 5, 0],\n",
       "        [7, 0, 2, 0, 0, 0, 4, 0, 9],\n",
       "        [0, 0, 0, 5, 0, 9, 0, 0, 0],\n",
       "        [9, 0, 4, 0, 8, 0, 7, 0, 5],\n",
       "        [6, 0, 0, 1, 0, 7, 0, 0, 3]])]"
      ]
     },
     "execution_count": 157,
     "metadata": {},
     "output_type": "execute_result"
    }
   ],
   "source": [
    "np.vsplit(sudoku_matrix, [4])"
   ]
  },
  {
   "cell_type": "markdown",
   "metadata": {},
   "source": [
    "#### 5. Computation with numpy arrays"
   ]
  }
 ],
 "metadata": {
  "kernelspec": {
   "display_name": "Python 3",
   "language": "python",
   "name": "python3"
  },
  "language_info": {
   "codemirror_mode": {
    "name": "ipython",
    "version": 3
   },
   "file_extension": ".py",
   "mimetype": "text/x-python",
   "name": "python",
   "nbconvert_exporter": "python",
   "pygments_lexer": "ipython3",
   "version": "3.6.11"
  }
 },
 "nbformat": 4,
 "nbformat_minor": 4
}
