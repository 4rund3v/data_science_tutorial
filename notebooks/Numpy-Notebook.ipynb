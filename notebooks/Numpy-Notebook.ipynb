{
 "cells": [
  {
   "cell_type": "markdown",
   "metadata": {},
   "source": [
    "# Getting started"
   ]
  },
  {
   "cell_type": "markdown",
   "metadata": {},
   "source": [
    "#### 1. Almost all data* can be represented as a array of numbers\n",
    "For example :\n",
    "       -  An image can be represented with a 3dimensional array (RGB) representing the intensities.\n",
    "       -  An mp3 can be represented as an array of intensities wrt time\n",
    "       -  An text document can be represented as binary data\n",
    "    Basically all data can be represented as an array of numbers.\n",
    "\n",
    "Okay, so we have a large array of numbers, now while working with this large array of numbers, how to efficiently store and use them.\n",
    "           "
   ]
  },
  {
   "cell_type": "markdown",
   "metadata": {},
   "source": [
    "#### 2. Existing solutions \n",
    "In order to work with a large array of numbers, in python we already have the <code>list</code> right."
   ]
  },
  {
   "cell_type": "code",
   "execution_count": 42,
   "metadata": {},
   "outputs": [
    {
     "name": "stdout",
     "output_type": "stream",
     "text": [
      "999999\n"
     ]
    }
   ],
   "source": [
    "million = list(range(0,10**6))\n",
    "print(million[-1]) "
   ]
  },
  {
   "cell_type": "markdown",
   "metadata": {},
   "source": [
    "So the list is a quite easy and fairly simple data strucutre to use. So thats all we need for working with a image or text or audio data right ...? waitup!"
   ]
  },
  {
   "cell_type": "code",
   "execution_count": 43,
   "metadata": {},
   "outputs": [
    {
     "name": "stdout",
     "output_type": "stream",
     "text": [
      "Item Count - 1000000 \n",
      " Ocuupied Size -  9000112  bytes\n"
     ]
    }
   ],
   "source": [
    "import sys\n",
    "print(\"Item Count -\", len(million),\"\\n\",\"Ocuupied Size - \",sys.getsizeof(million),\" bytes\")# thats almost 9 times the size of the data in millionare"
   ]
  },
  {
   "cell_type": "markdown",
   "metadata": {},
   "source": [
    "Notice that the  soze of holding a basic array of million integers is 9million\n",
    "\n",
    "Type |  Storage size |  Value range \n",
    "------|--------|-------:\n",
    " signed char   |  1 byte       |  -128 to 127 \n",
    "  int          |   2 or 4 bytes|-32,768 to 32,767 or -2,147,483,648 to 2,147,483,647   \n",
    "  unsigned int | 2 or 4 bytes  | 0 to 65,535 or 0 to 4,294,967,295  \n",
    "\n",
    "From above table we can see that roughly by storing unsinged int (4bytes) we should be having a maximum of 4*1million bytes of storage used. but this is holding way more than that."
   ]
  },
  {
   "cell_type": "markdown",
   "metadata": {},
   "source": [
    "#### 3. Lets look at whats happening here\n",
    "Since python is dynamically typed, that means that a varible can hold any type of data thoughout its lifetime in a program. unlike statically type data where if a variable is initialized as a int, it should be a int throughout its lifetime.\n",
    "<code>\n",
    "    python -- x = 10; x = {};\n",
    "    c++   --- int a = 10; a =/= {};</code>\n",
    "    \n",
    "Lets  look at a python variable and its structure for understanding more about how python does this dynamic typing\n",
    "https://github.com/certik/python-2.7/blob/c360290c3c9e55fbd79d6ceacdfc7cd4f393c1eb/Doc/c-api/structures.rst\n",
    "\n",
    "\n",
    "\n",
    "Hence million[0] - 0, is more than just 0 that is stored in memory.\n",
    "We need a more efficient mechanisim for the storing of this data with the easy of use of lists."
   ]
  },
  {
   "cell_type": "code",
   "execution_count": 28,
   "metadata": {},
   "outputs": [
    {
     "name": "stdout",
     "output_type": "stream",
     "text": [
      "Item Count - 1000000 \n",
      " Ocuupied Size -  4000064  bytes\n"
     ]
    }
   ],
   "source": [
    "import array\n",
    "million_array = array.array('i', million)\n",
    "print(\"Item Count -\", len(million_array),\"\\n\",\"Ocuupied Size - \",sys.getsizeof(million_array),\" bytes\")# thats almost 9 times the size of the data in millionare"
   ]
  },
  {
   "cell_type": "markdown",
   "metadata": {},
   "source": [
    "This is way better than storing it as a list, This is a good solution, but making multidimensional arrays and slicing and dicing would be hard. Theres an alternative, well proven solution <code> numpy </code> "
   ]
  },
  {
   "cell_type": "code",
   "execution_count": 2,
   "metadata": {},
   "outputs": [
    {
     "ename": "NameError",
     "evalue": "name 'million' is not defined",
     "output_type": "error",
     "traceback": [
      "\u001b[0;31m---------------------------------------------------------------------------\u001b[0m",
      "\u001b[0;31mNameError\u001b[0m                                 Traceback (most recent call last)",
      "\u001b[0;32m<ipython-input-2-660b830ea526>\u001b[0m in \u001b[0;36m<module>\u001b[0;34m\u001b[0m\n\u001b[1;32m      1\u001b[0m \u001b[0;32mimport\u001b[0m \u001b[0mnumpy\u001b[0m \u001b[0;32mas\u001b[0m \u001b[0mnp\u001b[0m\u001b[0;34m\u001b[0m\u001b[0;34m\u001b[0m\u001b[0m\n\u001b[1;32m      2\u001b[0m \u001b[0;34m\u001b[0m\u001b[0m\n\u001b[0;32m----> 3\u001b[0;31m \u001b[0mmillion_np_array\u001b[0m \u001b[0;34m=\u001b[0m \u001b[0mnp\u001b[0m\u001b[0;34m.\u001b[0m\u001b[0marray\u001b[0m\u001b[0;34m(\u001b[0m\u001b[0mmillion\u001b[0m\u001b[0;34m,\u001b[0m \u001b[0mdtype\u001b[0m\u001b[0;34m=\u001b[0m\u001b[0;34m\"int32\"\u001b[0m\u001b[0;34m)\u001b[0m\u001b[0;34m\u001b[0m\u001b[0;34m\u001b[0m\u001b[0m\n\u001b[0m\u001b[1;32m      4\u001b[0m \u001b[0mprint\u001b[0m\u001b[0;34m(\u001b[0m\u001b[0;34m\"Item Count -\"\u001b[0m\u001b[0;34m,\u001b[0m \u001b[0mlen\u001b[0m\u001b[0;34m(\u001b[0m\u001b[0mmillion_np_array\u001b[0m\u001b[0;34m)\u001b[0m\u001b[0;34m,\u001b[0m\u001b[0;34m\"\\n\"\u001b[0m\u001b[0;34m,\u001b[0m\u001b[0;34m\"Ocuupied Size - \"\u001b[0m\u001b[0;34m,\u001b[0m\u001b[0msys\u001b[0m\u001b[0;34m.\u001b[0m\u001b[0mgetsizeof\u001b[0m\u001b[0;34m(\u001b[0m\u001b[0mmillion_np_array\u001b[0m\u001b[0;34m)\u001b[0m\u001b[0;34m,\u001b[0m\u001b[0;34m\" bytes\"\u001b[0m\u001b[0;34m)\u001b[0m\u001b[0;31m# thats almost 9 times the size of the data in millionare\u001b[0m\u001b[0;34m\u001b[0m\u001b[0;34m\u001b[0m\u001b[0m\n",
      "\u001b[0;31mNameError\u001b[0m: name 'million' is not defined"
     ]
    }
   ],
   "source": [
    "import numpy as np\n",
    "\n",
    "million_np_array = np.array(million, dtype=\"int32\")\n",
    "print(\"Item Count -\", len(million_np_array),\"\\n\",\"Ocuupied Size - \",sys.getsizeof(million_np_array),\" bytes\")# thats almost 9 times the size of the data in millionare"
   ]
  },
  {
   "cell_type": "markdown",
   "metadata": {},
   "source": [
    "#### 4. Introduction to numpy and its modules"
   ]
  },
  {
   "cell_type": "code",
   "execution_count": 3,
   "metadata": {},
   "outputs": [
    {
     "data": {
      "text/plain": [
       "array([0, 1, 2, 3, 4, 5, 6, 7, 8, 9])"
      ]
     },
     "execution_count": 3,
     "metadata": {},
     "output_type": "execute_result"
    }
   ],
   "source": [
    "import numpy as np\n",
    "\n",
    "# Creating arrays from existing lists.\n",
    "items = list(range(10))\n",
    "np.array(items)\n"
   ]
  },
  {
   "cell_type": "code",
   "execution_count": 17,
   "metadata": {},
   "outputs": [
    {
     "name": "stdout",
     "output_type": "stream",
     "text": [
      "Just declaring the array.         --> [ 1.    2.    3.    2.7  69.98]\n",
      "Declaring the array with int type --> [ 1  2  3  2 69]\n",
      "Declaring the array with float type --> [ 1.    2.    3.    2.7  69.98]\n"
     ]
    }
   ],
   "source": [
    "# Unlike the python lists, the numpy array contains elements of the same type.\n",
    "# If types do not match, numpy will try to upcast. like from int to float or so.\n",
    "print(\"Just declaring the array.         -->\", np.array([1, 2, 3, 2.7, 69.98]))\n",
    "print(\"Declaring the array with int type -->\", np.array([1, 2, 3, 2.7, 69.98], dtype='int'))\n",
    "print(\"Declaring the array with float type -->\", np.array([1, 2, 3, 2.7, 69.98], dtype='float32'))\n"
   ]
  },
  {
   "cell_type": "code",
   "execution_count": 25,
   "metadata": {},
   "outputs": [
    {
     "name": "stdout",
     "output_type": "stream",
     "text": [
      "Zero array :  [0. 0. 0. 0. 0.]\n",
      "Data type by default :  float64\n"
     ]
    }
   ],
   "source": [
    "# Functions to help get started with numpy\n",
    "\n",
    "# To Create a array of 0's or 1's \n",
    "zero_array = np.zeros(5)\n",
    "print(\"Zero array : \",zero_array ) \n",
    "print(\"Data type by default : \", zero_array.dtype)\n",
    "# by default data type is set to float64 for a 64 bit machine and 32 for a 32bitmachine"
   ]
  },
  {
   "cell_type": "code",
   "execution_count": 23,
   "metadata": {},
   "outputs": [],
   "source": [
    "\n",
    "\n",
    "\n",
    "\n",
    "\n",
    "\n",
    "\n",
    "\n",
    "\n",
    "\n",
    "\n",
    "\n",
    "\n",
    "\n",
    "\n",
    "\n",
    "\n",
    "\n",
    "\n",
    "\n",
    "\n",
    "\n",
    "\n",
    "\n",
    "\n",
    "\n",
    "\n",
    "\n",
    "\n",
    "\n",
    "\n",
    "\n",
    "\n",
    "\n",
    "\n",
    "\n",
    "\n",
    "\n",
    "\n",
    "\n",
    "\n",
    "\n",
    "\n",
    "\n",
    "\n",
    "\n",
    "\n",
    "\n",
    "\n",
    "\n",
    "\n",
    "\n",
    "\n",
    "\n",
    "\n",
    "\n",
    "\n",
    "\n",
    "\n",
    "\n",
    "\n",
    "\n",
    "\n",
    "\n",
    "\n"
   ]
  }
 ],
 "metadata": {
  "kernelspec": {
   "display_name": "Python 3",
   "language": "python",
   "name": "python3"
  },
  "language_info": {
   "codemirror_mode": {
    "name": "ipython",
    "version": 3
   },
   "file_extension": ".py",
   "mimetype": "text/x-python",
   "name": "python",
   "nbconvert_exporter": "python",
   "pygments_lexer": "ipython3",
   "version": "3.6.11"
  }
 },
 "nbformat": 4,
 "nbformat_minor": 4
}
