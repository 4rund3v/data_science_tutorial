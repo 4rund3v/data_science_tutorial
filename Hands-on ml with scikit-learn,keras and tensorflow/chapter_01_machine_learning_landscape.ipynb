{
 "cells": [
  {
   "cell_type": "markdown",
   "metadata": {
    "collapsed": true
   },
   "source": [
    "## The Machine Learning Landscape"
   ]
  },
  {
   "cell_type": "markdown",
   "metadata": {
    "pycharm": {
     "name": "#%%\n"
    }
   },
   "source": [
    "Main Regions and Notable Landmarks in the Machine Learning Continent\n",
    " - Supervised vs Unsupervised Learning\n",
    " - Online vs Batch Learning\n",
    " - Instance Based vs Model-Based Learning\n",
    "\n",
    "What is ML ?\n",
    "A computer program  is said to learn from experience E with respect to some task T and some performance P, if its performance on task T as measured by P, improves with experience E.\n",
    "\n",
    "The examples that the system uses to learn are called the training set. Each training example is called a training instance or sample.\n",
    "\n",
    "Steps involved in a traditional ML problem\n",
    " - Study the problem\n",
    " - Train the ML algorithm\n",
    " - Evaluate Solution\n",
    " - Analyze Errors \n",
    " - Update alogrithm on new data\n",
    " - Launch\n",
    "Machine Learning shines is ffor the problems that either are too complex for traditional approaches or have no known algorithm.\n",
    "-+\n",
    "Applying ML techniques to dig into large amounts of data can help discover patterns that were not immediately apparent - Data Mining\n"
   ]
  },
  {
   "cell_type": "markdown",
   "metadata": {},
   "source": [
    "### Examples of Machine Learning Applications\n",
    " - Analyzing Images of products on a production line to automatically classify them\n",
    "    This is a image clssification task : Performed using a Convolutional Neural Networks (CNN)\n",
    " - Detecting Tumors in brain scans\n",
    "    This is a semantic segmentation, where each pixel in the image is classified, typically usingg CNN.\n",
    " - Automatically classifing news articles\n",
    "    This is natural Language processing (NLP), more specifically text classificiation which can be tackled using\n",
    "    recurrent neural networks (RNNs), CNNs or Transformers.\n",
    " - Automatically flagging offensive comments on discussion forums - This is also text classification using NLP\n",
    " - Summarizing Long Documents - This is a branch of NLP called text summarization\n",
    " - Creating a chatbot or a personal assistant - involves many NLP, Natural Language Understanding(NLU) and question-answering modules.\n",
    " - Forecasting your company's revenue based on many performacnce metrics \n",
    "   This is a regression task (i.e predicting values) that may be tackled using any regression model such as\n",
    "    Linear Regression or Polynomial Regression,a regression SVM, a regression Random Forest or an artifical neural network.\n",
    "    We neeed to take into account the sequences of past performance metrics we might want to use RNNs CNNS or Transformers\n",
    " - For Speech Recognition : which requires processing audio samples they are processed by RNN's, CNNs, Transformers.\n",
    " - Detecting Credit Card fraud : This is anomaly detection\n",
    " - Segmenting clients based on their purchases: so that we can design a different marketing strategy for each segment. This is clustering.\n",
    " - Representing a complex high dimensional dataset in a clear and insightful digram. This is data visualization often involving dimensionality reduction techniques.\n",
    " - Recommending a product that a client may be intrested in based on past purchases. This is a recommender system : One approach is to feed past purchases information to an artifical newural network and get it to output the most likely next purchase.\n",
    " - Building a bot for a game : this is often tackled using Reinforcement Learning to train a bot to pick actions that will maximize their rewards over time.    "
   ]
  },
  {
   "cell_type": "markdown",
   "metadata": {},
   "source": [
    "### Types of machine learning systems\n",
    " There are so many types of Machine Learning Systems that it is useful to classify them in broad categories.\n",
    " - Whether or not they are trained with human supervision. Supervised,Unsupervised, reinforcement learning.\n",
    " - Whether or not they can learn incrementally on the fly. (Online versus Batch learning)\n",
    " - Whether they work by simply comparing new data points to known data points(Instance Based) or instead by detecting patterns in the training data and building a predictive model.(Model Based)"
   ]
  },
  {
   "cell_type": "markdown",
   "metadata": {},
   "source": [
    "#### Supervised Learning , Unsupervised Learning, SemiSupervised Learning & Reinforcement Learning\n",
    " Machine learning systems can  be classified according to the amount and type of supervision they get during training.\n",
    "\n",
    " - Supervised Learning : The training set that we feed to the algorithm includes the desired solutions(labels). \n",
    "    A typical supervised learning task is classification. Where the input data contains the class to  be be later classified on the data.\n",
    "    Another typical task is to predict a target numerical value, such as the price of a car,house given a set of features called predictors, this sort of task is called regression.In this system(regression) we need to give the system many examples of cars/house including the predictors(features such as age,size etc) and the lables(price).\n",
    "    Note that some regression algorithms can be  used for classification as well and vice versa.For Ex. Logistic Regression is commonly used for classification, as it can output a value that corresponds to the probability of belonging to a given class.\n",
    "    Some important supervised learning algorithms are : \n",
    "     - k Nearest Neighbors\n",
    "     - Logistic Regression\n",
    "     - Linear Regression\n",
    "     - Support Vector Machine SVM\n",
    "     - Decision Tree and Random Forests\n",
    "     - Neural Networks.\n",
    "    \n",
    " - Unsupervised Learning : THe traiing dat a is unlabeled, the system tries to find the patterns in the data on its own.\n",
    "   Some important unsupervised learning algorithms  are :\n",
    "    - Clustering :\n",
    "      - K-Means \n",
    "      - DBSCAN\n",
    "      - HCA Hierarchical Cluster Analysis\n",
    "    - Anomaly Detection and novelty detection.\n",
    "     In anomaly detection the system is shown mostly normal instances during training so that it can learn to recognize them.\n",
    "     In novelty detection the aim is to detect new instances that look different from all instances from all other instances in the training set. this requires that the training set of data  must be clean.\n",
    "     - One Class SVM\n",
    "     - Isolation Forest\n",
    "    - Visualization and Dimensionality reduction : The goal is to simplify the data without losing too much information, One way is to merge several correlated fetures into one\n",
    "     - Principal Component Analysis PCA\n",
    "     - Kernel PCA\n",
    "     - Locally Linear Embedding LLE\n",
    "     - t-Distributed Stochastic Neighbor Emnbedding.(t-SNE)\n",
    "    - Association Rule Learning\n",
    "     The goal is to dig into large amounts of data and discover intresting relations between attributes.\n",
    "     - Apriori\n",
    "     - Eclat\n",
    " \n",
    " - SemiSupervised Learning : When the data has plenty of unlabeled data and very few labeled data, The system is called SemiSupervised Learning. Most semisupervised learning algorithms are combinations of unsupervised and supervised learning algorithms . For example the DBN deep belief networks are based on unsupervised components called restricted Boltzmann machines RBMs stacked on top of each other, which are later fine tuned using supervised learning methods.\n",
    " \n",
    " - Reinforcement Learning : The learning system is called an agent  that can observe the environment, select and perform actions anget rewards/penalities in return. It must then learn by it self what is the best strategy - called a policy to get the most reward over time."
   ]
  },
  {
   "cell_type": "markdown",
   "metadata": {},
   "source": [
    "#### Batch and Online Learning\n",
    "This classification is based on whether or not the system can learn incrementally from s stream of incoming data.\n",
    "\n",
    "  - Batch Learning: The system is incapable of learning incrementally, it must be trained using all the available data, this will often take a lot of time and computing resources so its typically done offline, Once trained it will not be learning , it just applies what it has learned. This is called as offline learning.\n",
    "  \n",
    "  - Online Learning: we train the system incrementally by feeding it data instances sequentailly either individually or in small groups. One important parameter of the online learning system is how fast they adapt to the changing data: called as the learning rate."
   ]
  },
  {
   "cell_type": "markdown",
   "metadata": {},
   "source": [
    "#### Model based and Instance Based\n",
    "This classification is based on how the system generalizes, after a model has ingested the training data and has good score on the training dataset for how the model generalizes on the unkown data there are two approaches.\n",
    "  - Instance Based Learning -  Possibly the most trivial form of learning is simply to learn by heart. The system learns the examples by heart and then generalizes to new cases by using a similarity measure to compare them to the learned examples.\n",
    "  \n",
    "  - Model Based Learning - From a given set of examples build a model and then use that model to make predictions, this is called model based learning."
   ]
  },
  {
   "cell_type": "code",
   "execution_count": null,
   "metadata": {},
   "outputs": [],
   "source": []
  }
 ],
 "metadata": {
  "kernelspec": {
   "display_name": "Python 3",
   "language": "python",
   "name": "python3"
  },
  "language_info": {
   "codemirror_mode": {
    "name": "ipython",
    "version": 3
   },
   "file_extension": ".py",
   "mimetype": "text/x-python",
   "name": "python",
   "nbconvert_exporter": "python",
   "pygments_lexer": "ipython3",
   "version": "3.6.8"
  }
 },
 "nbformat": 4,
 "nbformat_minor": 1
}
